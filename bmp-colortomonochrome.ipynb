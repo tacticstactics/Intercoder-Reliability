{
 "cells": [
  {
   "cell_type": "code",
   "execution_count": 2,
   "metadata": {},
   "outputs": [],
   "source": [
    "import struct\n",
    "\n",
    "def read_bmp(filename):\n",
    "    with open(filename, 'rb') as f:\n",
    "        bmp_data = f.read()\n",
    "    header = bmp_data[:54]\n",
    "    width = struct.unpack('<I', bmp_data[18:22])[0]\n",
    "    height = struct.unpack('<I', bmp_data[22:26])[0]\n",
    "    pixel_data = bmp_data[54:]\n",
    "    return header, width, height, pixel_data\n",
    "\n",
    "def write_bmp(filename, header, width, height, pixel_data):\n",
    "    with open(filename, 'wb') as f:\n",
    "        f.write(header)\n",
    "        f.write(pixel_data)\n",
    "\n",
    "def color_to_grayscale(r, g, b):\n",
    "    return int(0.299 * r + 0.587 * g + 0.114 * b)\n",
    "\n",
    "def convert_to_monochrome(input_filename, output_filename):\n",
    "    header, width, height, pixel_data = read_bmp(input_filename)\n",
    "    new_pixel_data = bytearray()\n",
    "\n",
    "    for y in range(height):\n",
    "        for x in range(width):\n",
    "            offset = (x + y * width) * 3\n",
    "            b, g, r = pixel_data[offset:offset+3]\n",
    "            gray = color_to_grayscale(r, g, b)\n",
    "            new_pixel_data.extend([gray, gray, gray])\n",
    "\n",
    "    write_bmp(output_filename, header, width, height, new_pixel_data)\n",
    "\n",
    "# Usage example\n",
    "convert_to_monochrome('input.bmp', 'monochrome_output.bmp')\n"
   ]
  }
 ],
 "metadata": {
  "kernelspec": {
   "display_name": "base",
   "language": "python",
   "name": "python3"
  },
  "language_info": {
   "codemirror_mode": {
    "name": "ipython",
    "version": 3
   },
   "file_extension": ".py",
   "mimetype": "text/x-python",
   "name": "python",
   "nbconvert_exporter": "python",
   "pygments_lexer": "ipython3",
   "version": "3.12.4"
  }
 },
 "nbformat": 4,
 "nbformat_minor": 2
}
